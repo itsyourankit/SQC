{
 "cells": [
  {
   "cell_type": "code",
   "execution_count": 1,
   "id": "1817d80d",
   "metadata": {},
   "outputs": [],
   "source": [
    "#import required library\n",
    "import pandas as pd\n",
    "import matplotlib.pyplot as plt\n",
    "import statistics"
   ]
  },
  {
   "cell_type": "code",
   "execution_count": 2,
   "id": "1e5c479a",
   "metadata": {},
   "outputs": [
    {
     "data": {
      "image/png": "[encoded data removed]",
      "text/plain": [
       "<PIL.PngImagePlugin.PngImageFile image mode=P size=239x148 at 0x1E5A47FCE80>"
      ]
     },
     "execution_count": 2,
     "metadata": {},
     "output_type": "execute_result"
    }
   ],
   "source": [
    "from PIL import Image\n",
    "img = Image.open(\"np.png\")\n",
    "img #formula for np chart"
   ]
  },
  {
   "cell_type": "code",
   "execution_count": 3,
   "id": "79cdb94d",
   "metadata": {},
   "outputs": [],
   "source": [
    "#creating dataframe\n",
    "np_Chart = pd.DataFrame({'Sample_No' : [1,2,3,4,5,6,7,8,9,10], 'defective_units(np)' : [17,15,14,26,9,4,19,12,9,15], 'No_of_units' : [400,400,400,400,400,400,400,400,400,400]})\n",
    "n= 400 # size of sample"
   ]
  },
  {
   "cell_type": "code",
   "execution_count": 4,
   "id": "3d735fcc",
   "metadata": {},
   "outputs": [
    {
     "data": {
      "text/html": [
       "<div>\n",
       "<style scoped>\n",
       "    .dataframe tbody tr th:only-of-type {\n",
       "        vertical-align: middle;\n",
       "    }\n",
       "\n",
       "    .dataframe tbody tr th {\n",
       "        vertical-align: top;\n",
       "    }\n",
       "\n",
       "    .dataframe thead th {\n",
       "        text-align: right;\n",
       "    }\n",
       "</style>\n",
       "<table border=\"1\" class=\"dataframe\">\n",
       "  <thead>\n",
       "    <tr style=\"text-align: right;\">\n",
       "      <th></th>\n",
       "      <th>Sample_No</th>\n",
       "      <th>defective_units(np)</th>\n",
       "      <th>No_of_units</th>\n",
       "    </tr>\n",
       "  </thead>\n",
       "  <tbody>\n",
       "    <tr>\n",
       "      <th>0</th>\n",
       "      <td>1</td>\n",
       "      <td>17</td>\n",
       "      <td>400</td>\n",
       "    </tr>\n",
       "    <tr>\n",
       "      <th>1</th>\n",
       "      <td>2</td>\n",
       "      <td>15</td>\n",
       "      <td>400</td>\n",
       "    </tr>\n",
       "    <tr>\n",
       "      <th>2</th>\n",
       "      <td>3</td>\n",
       "      <td>14</td>\n",
       "      <td>400</td>\n",
       "    </tr>\n",
       "    <tr>\n",
       "      <th>3</th>\n",
       "      <td>4</td>\n",
       "      <td>26</td>\n",
       "      <td>400</td>\n",
       "    </tr>\n",
       "    <tr>\n",
       "      <th>4</th>\n",
       "      <td>5</td>\n",
       "      <td>9</td>\n",
       "      <td>400</td>\n",
       "    </tr>\n",
       "    <tr>\n",
       "      <th>5</th>\n",
       "      <td>6</td>\n",
       "      <td>4</td>\n",
       "      <td>400</td>\n",
       "    </tr>\n",
       "    <tr>\n",
       "      <th>6</th>\n",
       "      <td>7</td>\n",
       "      <td>19</td>\n",
       "      <td>400</td>\n",
       "    </tr>\n",
       "    <tr>\n",
       "      <th>7</th>\n",
       "      <td>8</td>\n",
       "      <td>12</td>\n",
       "      <td>400</td>\n",
       "    </tr>\n",
       "    <tr>\n",
       "      <th>8</th>\n",
       "      <td>9</td>\n",
       "      <td>9</td>\n",
       "      <td>400</td>\n",
       "    </tr>\n",
       "    <tr>\n",
       "      <th>9</th>\n",
       "      <td>10</td>\n",
       "      <td>15</td>\n",
       "      <td>400</td>\n",
       "    </tr>\n",
       "  </tbody>\n",
       "</table>\n",
       "</div>"
      ],
      "text/plain": [
       "   Sample_No  defective_units(np)  No_of_units\n",
       "0          1                   17          400\n",
       "1          2                   15          400\n",
       "2          3                   14          400\n",
       "3          4                   26          400\n",
       "4          5                    9          400\n",
       "5          6                    4          400\n",
       "6          7                   19          400\n",
       "7          8                   12          400\n",
       "8          9                    9          400\n",
       "9         10                   15          400"
      ]
     },
     "execution_count": 4,
     "metadata": {},
     "output_type": "execute_result"
    }
   ],
   "source": [
    "np_Chart"
   ]
  },
  {
   "cell_type": "code",
   "execution_count": 5,
   "id": "f395d758",
   "metadata": {},
   "outputs": [
    {
     "data": {
      "text/plain": [
       "0.035"
      ]
     },
     "execution_count": 5,
     "metadata": {},
     "output_type": "execute_result"
    }
   ],
   "source": [
    "p = np_Chart['defective_units(np)'].sum()/np_Chart['No_of_units'].sum() \n",
    "p "
   ]
  },
  {
   "cell_type": "code",
   "execution_count": 6,
   "id": "a1faf370",
   "metadata": {},
   "outputs": [
    {
     "data": {
      "text/plain": [
       "0.965"
      ]
     },
     "execution_count": 6,
     "metadata": {},
     "output_type": "execute_result"
    }
   ],
   "source": [
    "q = 1-p\n",
    "q"
   ]
  },
  {
   "cell_type": "code",
   "execution_count": 7,
   "id": "ff8fd586",
   "metadata": {},
   "outputs": [],
   "source": [
    "np = n*p #i.e cl"
   ]
  },
  {
   "cell_type": "code",
   "execution_count": 8,
   "id": "2adffea5",
   "metadata": {},
   "outputs": [
    {
     "data": {
      "text/plain": [
       "14.000000000000002"
      ]
     },
     "execution_count": 8,
     "metadata": {},
     "output_type": "execute_result"
    }
   ],
   "source": [
    "Cl = np #calculating central line\n",
    "Cl"
   ]
  },
  {
   "cell_type": "code",
   "execution_count": 9,
   "id": "2929e95e",
   "metadata": {},
   "outputs": [],
   "source": [
    "import math \n",
    "Ucl = (n*p) +  3*(math.sqrt(n*p*q)) #calculating upper control limit"
   ]
  },
  {
   "cell_type": "code",
   "execution_count": 10,
   "id": "15ecbb4f",
   "metadata": {},
   "outputs": [
    {
     "data": {
      "text/plain": [
       "25.026785569693466"
      ]
     },
     "execution_count": 10,
     "metadata": {},
     "output_type": "execute_result"
    }
   ],
   "source": [
    "Ucl"
   ]
  },
  {
   "cell_type": "code",
   "execution_count": 11,
   "id": "69fc4282",
   "metadata": {},
   "outputs": [
    {
     "data": {
      "text/plain": [
       "2.9732144303065375"
      ]
     },
     "execution_count": 11,
     "metadata": {},
     "output_type": "execute_result"
    }
   ],
   "source": [
    "Lcl = (n*p) -  3*(math.sqrt(n*p*q)) #calculating lower control limit\n",
    "Lcl"
   ]
  },
  {
   "cell_type": "code",
   "execution_count": 12,
   "id": "72ac04d0",
   "metadata": {},
   "outputs": [
    {
     "data": {
      "text/plain": [
       "<matplotlib.legend.Legend at 0x1e5a494b640>"
      ]
     },
     "execution_count": 12,
     "metadata": {},
     "output_type": "execute_result"
    },
    {
     "data": {
      "image/png": "[encoded data removed]",
      "text/plain": [
       "<Figure size 1080x684 with 1 Axes>"
      ]
     },
     "metadata": {
      "needs_background": "light"
     },
     "output_type": "display_data"
    }
   ],
   "source": [
    "plt.figure(figsize= (15,9.5))\n",
    "plt.plot(np_Chart['defective_units(np)'], linestyle = '--',marker = 'o' ,color ='red')\n",
    "plt.axhline(Ucl,color = \"green\",linestyle = '--',label = \"Ucl\")\n",
    "plt.axhline(p, color = \"black\",label=\"Cl\")\n",
    "plt.axhline(Lcl,color = \"black\",linestyle = '--', label = \"Lcl\")\n",
    "plt.xlabel(\"sample no\")\n",
    "plt.ylabel(\"fraction of defecative\")\n",
    "plt.title(\"np_Chart\")\n",
    "plt.legend()"
   ]
  },
  {
   "cell_type": "markdown",
   "id": "9362e044",
   "metadata": {},
   "source": [
    "# we observe that there is one point above the Ucl, therefore process is not under control\n"
   ]
  },
  {
   "cell_type": "code",
   "execution_count": null,
   "id": "1776d09f",
   "metadata": {},
   "outputs": [],
   "source": []
  }
 ],
 "metadata": {
  "kernelspec": {
   "display_name": "Python 3 (ipykernel)",
   "language": "python",
   "name": "python3"
  },
  "language_info": {
   "codemirror_mode": {
    "name": "ipython",
    "version": 3
   },
   "file_extension": ".py",
   "mimetype": "text/x-python",
   "name": "python",
   "nbconvert_exporter": "python",
   "pygments_lexer": "ipython3",
   "version": "3.9.12"
  }
 },
 "nbformat": 4,
 "nbformat_minor": 5
}
